{
 "cells": [
  {
   "cell_type": "markdown",
   "id": "cec7da5e-d8df-49d9-9490-9f8a0a7a980f",
   "metadata": {},
   "source": [
    "# Importing requires Libraries"
   ]
  },
  {
   "cell_type": "code",
   "execution_count": 1,
   "id": "8bf17d3d-d05a-4c90-9e44-0554fc614fc5",
   "metadata": {
    "tags": []
   },
   "outputs": [],
   "source": [
    "import pandas as pd\n",
    "from scipy.stats import chi2_contingency"
   ]
  },
  {
   "cell_type": "markdown",
   "id": "f8919cd4-cfd1-464b-9eb5-e47525e5c73f",
   "metadata": {},
   "source": [
    "# Reading and Exploring the Data"
   ]
  },
  {
   "cell_type": "code",
   "execution_count": 2,
   "id": "3fa3bbf7-33fe-41b2-8e2d-25eb33276b98",
   "metadata": {
    "tags": []
   },
   "outputs": [],
   "source": [
    "df = pd.read_csv('AdSmart.csv')"
   ]
  },
  {
   "cell_type": "code",
   "execution_count": 5,
   "id": "8aa57320-b113-4b9f-b221-339e713551f9",
   "metadata": {
    "tags": []
   },
   "outputs": [
    {
     "data": {
      "text/html": [
       "<div>\n",
       "<style scoped>\n",
       "    .dataframe tbody tr th:only-of-type {\n",
       "        vertical-align: middle;\n",
       "    }\n",
       "\n",
       "    .dataframe tbody tr th {\n",
       "        vertical-align: top;\n",
       "    }\n",
       "\n",
       "    .dataframe thead th {\n",
       "        text-align: right;\n",
       "    }\n",
       "</style>\n",
       "<table border=\"1\" class=\"dataframe\">\n",
       "  <thead>\n",
       "    <tr style=\"text-align: right;\">\n",
       "      <th></th>\n",
       "      <th>auction_id</th>\n",
       "      <th>experiment</th>\n",
       "      <th>date</th>\n",
       "      <th>hour</th>\n",
       "      <th>device_make</th>\n",
       "      <th>platform_os</th>\n",
       "      <th>browser</th>\n",
       "      <th>yes</th>\n",
       "      <th>no</th>\n",
       "    </tr>\n",
       "  </thead>\n",
       "  <tbody>\n",
       "    <tr>\n",
       "      <th>0</th>\n",
       "      <td>0008ef63-77a7-448b-bd1e-075f42c55e39</td>\n",
       "      <td>exposed</td>\n",
       "      <td>2020-07-10</td>\n",
       "      <td>8</td>\n",
       "      <td>Generic Smartphone</td>\n",
       "      <td>6</td>\n",
       "      <td>Chrome Mobile</td>\n",
       "      <td>0</td>\n",
       "      <td>0</td>\n",
       "    </tr>\n",
       "    <tr>\n",
       "      <th>1</th>\n",
       "      <td>000eabc5-17ce-4137-8efe-44734d914446</td>\n",
       "      <td>exposed</td>\n",
       "      <td>2020-07-07</td>\n",
       "      <td>10</td>\n",
       "      <td>Generic Smartphone</td>\n",
       "      <td>6</td>\n",
       "      <td>Chrome Mobile</td>\n",
       "      <td>0</td>\n",
       "      <td>0</td>\n",
       "    </tr>\n",
       "    <tr>\n",
       "      <th>2</th>\n",
       "      <td>0016d14a-ae18-4a02-a204-6ba53b52f2ed</td>\n",
       "      <td>exposed</td>\n",
       "      <td>2020-07-05</td>\n",
       "      <td>2</td>\n",
       "      <td>E5823</td>\n",
       "      <td>6</td>\n",
       "      <td>Chrome Mobile WebView</td>\n",
       "      <td>0</td>\n",
       "      <td>1</td>\n",
       "    </tr>\n",
       "  </tbody>\n",
       "</table>\n",
       "</div>"
      ],
      "text/plain": [
       "                             auction_id experiment        date  hour  \\\n",
       "0  0008ef63-77a7-448b-bd1e-075f42c55e39    exposed  2020-07-10     8   \n",
       "1  000eabc5-17ce-4137-8efe-44734d914446    exposed  2020-07-07    10   \n",
       "2  0016d14a-ae18-4a02-a204-6ba53b52f2ed    exposed  2020-07-05     2   \n",
       "\n",
       "          device_make  platform_os                browser  yes  no  \n",
       "0  Generic Smartphone            6          Chrome Mobile    0   0  \n",
       "1  Generic Smartphone            6          Chrome Mobile    0   0  \n",
       "2               E5823            6  Chrome Mobile WebView    0   1  "
      ]
     },
     "execution_count": 5,
     "metadata": {},
     "output_type": "execute_result"
    }
   ],
   "source": [
    "df.head(3)"
   ]
  },
  {
   "cell_type": "code",
   "execution_count": 7,
   "id": "bcf82c04-2895-4416-913c-adb835d5a79f",
   "metadata": {
    "tags": []
   },
   "outputs": [
    {
     "data": {
      "text/plain": [
       "0"
      ]
     },
     "execution_count": 7,
     "metadata": {},
     "output_type": "execute_result"
    }
   ],
   "source": [
    "df.duplicated().sum()"
   ]
  },
  {
   "cell_type": "code",
   "execution_count": 9,
   "id": "84f718cd-62e7-42a2-874a-b96477367f9a",
   "metadata": {
    "tags": []
   },
   "outputs": [],
   "source": [
    "df = df.drop(columns=['auction_id'])"
   ]
  },
  {
   "cell_type": "code",
   "execution_count": 11,
   "id": "cb8bba0c-808b-4156-9ca7-50f898eba02c",
   "metadata": {
    "tags": []
   },
   "outputs": [
    {
     "data": {
      "text/plain": [
       "(8077, 8)"
      ]
     },
     "execution_count": 11,
     "metadata": {},
     "output_type": "execute_result"
    }
   ],
   "source": [
    "df.shape"
   ]
  },
  {
   "cell_type": "code",
   "execution_count": 13,
   "id": "7c8d989c-9afd-4f2a-be81-6a13282fae04",
   "metadata": {
    "tags": []
   },
   "outputs": [
    {
     "name": "stdout",
     "output_type": "stream",
     "text": [
      "<class 'pandas.core.frame.DataFrame'>\n",
      "RangeIndex: 8077 entries, 0 to 8076\n",
      "Data columns (total 8 columns):\n",
      " #   Column       Non-Null Count  Dtype \n",
      "---  ------       --------------  ----- \n",
      " 0   experiment   8077 non-null   object\n",
      " 1   date         8077 non-null   object\n",
      " 2   hour         8077 non-null   int64 \n",
      " 3   device_make  8077 non-null   object\n",
      " 4   platform_os  8077 non-null   int64 \n",
      " 5   browser      8077 non-null   object\n",
      " 6   yes          8077 non-null   int64 \n",
      " 7   no           8077 non-null   int64 \n",
      "dtypes: int64(4), object(4)\n",
      "memory usage: 504.9+ KB\n"
     ]
    }
   ],
   "source": [
    "df.info()"
   ]
  },
  {
   "cell_type": "code",
   "execution_count": 15,
   "id": "5908be6d-0669-4652-8eb4-6ab4362bd4ff",
   "metadata": {
    "tags": []
   },
   "outputs": [
    {
     "data": {
      "text/plain": [
       "experiment     0\n",
       "date           0\n",
       "hour           0\n",
       "device_make    0\n",
       "platform_os    0\n",
       "browser        0\n",
       "yes            0\n",
       "no             0\n",
       "dtype: int64"
      ]
     },
     "execution_count": 15,
     "metadata": {},
     "output_type": "execute_result"
    }
   ],
   "source": [
    "df.isna().sum()"
   ]
  },
  {
   "cell_type": "code",
   "execution_count": 40,
   "id": "9e0f42d2-dece-4239-ba59-fd040afb46ae",
   "metadata": {
    "tags": []
   },
   "outputs": [
    {
     "data": {
      "text/plain": [
       "array([0, 1], dtype=int64)"
      ]
     },
     "execution_count": 40,
     "metadata": {},
     "output_type": "execute_result"
    }
   ],
   "source": [
    "df['no'].unique()"
   ]
  },
  {
   "cell_type": "code",
   "execution_count": 36,
   "id": "a538979a-1378-4789-a911-7688b6fe24d0",
   "metadata": {
    "tags": []
   },
   "outputs": [
    {
     "data": {
      "text/plain": [
       "array([0, 1], dtype=int64)"
      ]
     },
     "execution_count": 36,
     "metadata": {},
     "output_type": "execute_result"
    }
   ],
   "source": [
    "df['yes'].unique()"
   ]
  },
  {
   "cell_type": "markdown",
   "id": "49523fde-9806-434f-9801-67ca0267c703",
   "metadata": {},
   "source": [
    "#### Now Iam sure that the data is clean , No Nulls or Duplicates or Outliers , all the data types are suitable for my testing "
   ]
  },
  {
   "cell_type": "code",
   "execution_count": 34,
   "id": "e781bc99-9fc0-477b-a8ee-22272ad4a5eb",
   "metadata": {
    "tags": []
   },
   "outputs": [
    {
     "data": {
      "text/html": [
       "<div>\n",
       "<style scoped>\n",
       "    .dataframe tbody tr th:only-of-type {\n",
       "        vertical-align: middle;\n",
       "    }\n",
       "\n",
       "    .dataframe tbody tr th {\n",
       "        vertical-align: top;\n",
       "    }\n",
       "\n",
       "    .dataframe thead th {\n",
       "        text-align: right;\n",
       "    }\n",
       "</style>\n",
       "<table border=\"1\" class=\"dataframe\">\n",
       "  <thead>\n",
       "    <tr style=\"text-align: right;\">\n",
       "      <th></th>\n",
       "      <th>count</th>\n",
       "      <th>mean</th>\n",
       "      <th>std</th>\n",
       "      <th>min</th>\n",
       "      <th>25%</th>\n",
       "      <th>50%</th>\n",
       "      <th>75%</th>\n",
       "      <th>max</th>\n",
       "    </tr>\n",
       "  </thead>\n",
       "  <tbody>\n",
       "    <tr>\n",
       "      <th>hour</th>\n",
       "      <td>8077.0</td>\n",
       "      <td>11.615080</td>\n",
       "      <td>5.734879</td>\n",
       "      <td>0.0</td>\n",
       "      <td>7.0</td>\n",
       "      <td>13.0</td>\n",
       "      <td>15.0</td>\n",
       "      <td>23.0</td>\n",
       "    </tr>\n",
       "    <tr>\n",
       "      <th>platform_os</th>\n",
       "      <td>8077.0</td>\n",
       "      <td>5.947134</td>\n",
       "      <td>0.224333</td>\n",
       "      <td>5.0</td>\n",
       "      <td>6.0</td>\n",
       "      <td>6.0</td>\n",
       "      <td>6.0</td>\n",
       "      <td>7.0</td>\n",
       "    </tr>\n",
       "    <tr>\n",
       "      <th>yes</th>\n",
       "      <td>8077.0</td>\n",
       "      <td>0.070818</td>\n",
       "      <td>0.256537</td>\n",
       "      <td>0.0</td>\n",
       "      <td>0.0</td>\n",
       "      <td>0.0</td>\n",
       "      <td>0.0</td>\n",
       "      <td>1.0</td>\n",
       "    </tr>\n",
       "    <tr>\n",
       "      <th>no</th>\n",
       "      <td>8077.0</td>\n",
       "      <td>0.083075</td>\n",
       "      <td>0.276013</td>\n",
       "      <td>0.0</td>\n",
       "      <td>0.0</td>\n",
       "      <td>0.0</td>\n",
       "      <td>0.0</td>\n",
       "      <td>1.0</td>\n",
       "    </tr>\n",
       "  </tbody>\n",
       "</table>\n",
       "</div>"
      ],
      "text/plain": [
       "              count       mean       std  min  25%   50%   75%   max\n",
       "hour         8077.0  11.615080  5.734879  0.0  7.0  13.0  15.0  23.0\n",
       "platform_os  8077.0   5.947134  0.224333  5.0  6.0   6.0   6.0   7.0\n",
       "yes          8077.0   0.070818  0.256537  0.0  0.0   0.0   0.0   1.0\n",
       "no           8077.0   0.083075  0.276013  0.0  0.0   0.0   0.0   1.0"
      ]
     },
     "execution_count": 34,
     "metadata": {},
     "output_type": "execute_result"
    }
   ],
   "source": [
    "df.describe().T"
   ]
  },
  {
   "cell_type": "code",
   "execution_count": 50,
   "id": "82a202d0-bd65-4021-a8f7-5cea464f1d37",
   "metadata": {
    "tags": []
   },
   "outputs": [
    {
     "name": "stdout",
     "output_type": "stream",
     "text": [
      "Experiment : ['exposed' 'control']\n",
      "platform_os : [6 5 7]\n",
      "Yes : [0 1]\n",
      "No : [0 1]\n"
     ]
    }
   ],
   "source": [
    "print(\"Experiment :\", df['experiment'].unique())\n",
    "print(\"platform_os :\", df['platform_os'].unique())\n",
    "print(\"Yes :\", df['yes'].unique())\n",
    "print(\"No :\", df['no'].unique())"
   ]
  },
  {
   "cell_type": "code",
   "execution_count": 58,
   "id": "acde0e51-1995-4c65-915a-e76ac0f72133",
   "metadata": {
    "tags": []
   },
   "outputs": [
    {
     "data": {
      "text/plain": [
       "(572, 8)"
      ]
     },
     "execution_count": 58,
     "metadata": {},
     "output_type": "execute_result"
    }
   ],
   "source": [
    "yes_val = df[df['yes']==1]\n",
    "yes_val.shape"
   ]
  },
  {
   "cell_type": "code",
   "execution_count": 60,
   "id": "30912544-0ab8-4a5c-adae-186bb6375e58",
   "metadata": {
    "tags": []
   },
   "outputs": [
    {
     "data": {
      "text/plain": [
       "(671, 8)"
      ]
     },
     "execution_count": 60,
     "metadata": {},
     "output_type": "execute_result"
    }
   ],
   "source": [
    "no_val = df[df['no']==1]\n",
    "no_val.shape"
   ]
  },
  {
   "cell_type": "code",
   "execution_count": 70,
   "id": "bbb8f366-0e34-4416-b982-7258923f34a6",
   "metadata": {
    "tags": []
   },
   "outputs": [
    {
     "data": {
      "text/plain": [
       "(8077, 8)"
      ]
     },
     "execution_count": 70,
     "metadata": {},
     "output_type": "execute_result"
    }
   ],
   "source": [
    "df.shape"
   ]
  },
  {
   "cell_type": "markdown",
   "id": "7f1f1014-3f5a-4ace-93b3-71308c835cad",
   "metadata": {},
   "source": [
    "# Data PreProccessing"
   ]
  },
  {
   "cell_type": "code",
   "execution_count": 74,
   "id": "a37b5d6f-34aa-45bc-8dcf-309945bb5ca8",
   "metadata": {
    "tags": []
   },
   "outputs": [
    {
     "name": "stdout",
     "output_type": "stream",
     "text": [
      "6834\n"
     ]
    }
   ],
   "source": [
    "# So I have many rows with no respones \n",
    "No_response = df.shape[0] - (yes_val.shape[0]+no_val.shape[0])\n",
    "print(No_response)"
   ]
  },
  {
   "cell_type": "code",
   "execution_count": 78,
   "id": "6c7a2060-25c5-4837-a593-191532b1b77a",
   "metadata": {
    "tags": []
   },
   "outputs": [],
   "source": [
    "df1 = df[(df['yes'] == 1) | (df['no'] == 1)]"
   ]
  },
  {
   "cell_type": "code",
   "execution_count": 80,
   "id": "df9795a7-da0a-4f84-b336-cdb745bfb400",
   "metadata": {
    "tags": []
   },
   "outputs": [
    {
     "name": "stdout",
     "output_type": "stream",
     "text": [
      "<class 'pandas.core.frame.DataFrame'>\n",
      "Index: 1243 entries, 2 to 8071\n",
      "Data columns (total 8 columns):\n",
      " #   Column       Non-Null Count  Dtype \n",
      "---  ------       --------------  ----- \n",
      " 0   experiment   1243 non-null   object\n",
      " 1   date         1243 non-null   object\n",
      " 2   hour         1243 non-null   int64 \n",
      " 3   device_make  1243 non-null   object\n",
      " 4   platform_os  1243 non-null   int64 \n",
      " 5   browser      1243 non-null   object\n",
      " 6   yes          1243 non-null   int64 \n",
      " 7   no           1243 non-null   int64 \n",
      "dtypes: int64(4), object(4)\n",
      "memory usage: 87.4+ KB\n"
     ]
    }
   ],
   "source": [
    "df1.info()"
   ]
  },
  {
   "cell_type": "code",
   "execution_count": 92,
   "id": "db303d3d-d238-4966-9894-8d28f9747e45",
   "metadata": {
    "tags": []
   },
   "outputs": [],
   "source": [
    "rate = df1.groupby('experiment')[['yes','no']].sum()"
   ]
  },
  {
   "cell_type": "code",
   "execution_count": 94,
   "id": "7fafd9f6-463d-46da-bd4a-15ea097b1bb8",
   "metadata": {
    "tags": []
   },
   "outputs": [],
   "source": [
    "rate['conversion_rate'] = rate['yes'] / (rate['yes'] + rate['no'])"
   ]
  },
  {
   "cell_type": "code",
   "execution_count": 100,
   "id": "f46eb552-34ea-405a-a589-169c4dfbab8f",
   "metadata": {
    "tags": []
   },
   "outputs": [
    {
     "data": {
      "text/html": [
       "<div>\n",
       "<style scoped>\n",
       "    .dataframe tbody tr th:only-of-type {\n",
       "        vertical-align: middle;\n",
       "    }\n",
       "\n",
       "    .dataframe tbody tr th {\n",
       "        vertical-align: top;\n",
       "    }\n",
       "\n",
       "    .dataframe thead th {\n",
       "        text-align: right;\n",
       "    }\n",
       "</style>\n",
       "<table border=\"1\" class=\"dataframe\">\n",
       "  <thead>\n",
       "    <tr style=\"text-align: right;\">\n",
       "      <th></th>\n",
       "      <th>yes</th>\n",
       "      <th>no</th>\n",
       "      <th>conversion_rate</th>\n",
       "    </tr>\n",
       "    <tr>\n",
       "      <th>experiment</th>\n",
       "      <th></th>\n",
       "      <th></th>\n",
       "      <th></th>\n",
       "    </tr>\n",
       "  </thead>\n",
       "  <tbody>\n",
       "    <tr>\n",
       "      <th>control</th>\n",
       "      <td>264</td>\n",
       "      <td>322</td>\n",
       "      <td>0.450512</td>\n",
       "    </tr>\n",
       "    <tr>\n",
       "      <th>exposed</th>\n",
       "      <td>308</td>\n",
       "      <td>349</td>\n",
       "      <td>0.468798</td>\n",
       "    </tr>\n",
       "  </tbody>\n",
       "</table>\n",
       "</div>"
      ],
      "text/plain": [
       "            yes   no  conversion_rate\n",
       "experiment                           \n",
       "control     264  322         0.450512\n",
       "exposed     308  349         0.468798"
      ]
     },
     "execution_count": 100,
     "metadata": {},
     "output_type": "execute_result"
    }
   ],
   "source": [
    "rate"
   ]
  },
  {
   "cell_type": "markdown",
   "id": "65f6c73d-7dbd-40db-81c6-f5870efe4f0f",
   "metadata": {},
   "source": [
    "# A/B Testing"
   ]
  },
  {
   "cell_type": "code",
   "execution_count": 106,
   "id": "f8e999dc-8341-406e-a44b-a03f7e7d3bd0",
   "metadata": {
    "tags": []
   },
   "outputs": [
    {
     "name": "stdout",
     "output_type": "stream",
     "text": [
      "Chi-Square Statistic: 0.3465426444731172\n",
      "P-Value: 0.5560768104229136\n"
     ]
    }
   ],
   "source": [
    "contingency_table = [\n",
    "    [rate.loc['control', 'yes'], rate.loc['control', 'no']],\n",
    "    [rate.loc['exposed', 'yes'], rate.loc['exposed', 'no']]\n",
    "]\n",
    "\n",
    "# Perform the chi-square test\n",
    "chi2, p_value, dof, expected = chi2_contingency(contingency_table)\n",
    "\n",
    "# Output the chi-square statistic and p-value\n",
    "print(\"Chi-Square Statistic:\", chi2)\n",
    "print(\"P-Value:\", p_value)"
   ]
  },
  {
   "cell_type": "markdown",
   "id": "791abe52-96d0-4374-9e7b-aa3931739ea2",
   "metadata": {},
   "source": [
    "#### The p-value of 0.5561 is much higher than the common significance level of 0.05. This means we fail to reject the null hypothesis, suggesting that the difference in conversion rates between the control and exposed groups is not statistically significant."
   ]
  }
 ],
 "metadata": {
  "kernelspec": {
   "display_name": "Python 3 (ipykernel)",
   "language": "python",
   "name": "python3"
  },
  "language_info": {
   "codemirror_mode": {
    "name": "ipython",
    "version": 3
   },
   "file_extension": ".py",
   "mimetype": "text/x-python",
   "name": "python",
   "nbconvert_exporter": "python",
   "pygments_lexer": "ipython3",
   "version": "3.11.5"
  }
 },
 "nbformat": 4,
 "nbformat_minor": 5
}
